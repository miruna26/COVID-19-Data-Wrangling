{
 "cells": [
  {
   "cell_type": "code",
   "execution_count": null,
   "metadata": {},
   "outputs": [],
   "source": [
    "import pandas as pd\n",
    "import os\n",
    "\n",
    "date_df = pd.read_csv('destination_dataset.csv')\n",
    "date_df = date_df.sort_values(by=['effective_date'])"
   ]
  },
  {
   "cell_type": "code",
   "execution_count": null,
   "metadata": {},
   "outputs": [],
   "source": [
    "#  create list with dates from the effective_date column and drop the nan values\n",
    "list_dates = date_df['effective_date'].fillna('').unique()[:-1]\n",
    "\n",
    "#  if diectory to store files does not exist, create one\n",
    "if not os.path.exists('file_dates'):\n",
    "                os.makedirs('file_dates')   \n",
    "\n",
    "# function to split dataframe by day and save it to different CSV files \n",
    "def save_to_csv():\n",
    "    for i,value in enumerate(list_dates):\n",
    "        df = date_df.loc[date_df['effective_date'] == date_df['effective_date'].fillna('').unique()[i]]\n",
    "        df.to_csv(f'file_dates/{value}.csv')\n",
    "\n",
    "save_to_csv()"
   ]
  }
 ],
 "metadata": {
  "interpreter": {
   "hash": "c230fe425ee624d10b4629f779d564af657f40199120e40b997a837dd463b4b6"
  },
  "kernelspec": {
   "display_name": "Python 3 (ipykernel)",
   "language": "python",
   "name": "python3"
  },
  "language_info": {
   "codemirror_mode": {
    "name": "ipython",
    "version": 3
   },
   "file_extension": ".py",
   "mimetype": "text/x-python",
   "name": "python",
   "nbconvert_exporter": "python",
   "pygments_lexer": "ipython3",
   "version": "3.9.7"
  }
 },
 "nbformat": 4,
 "nbformat_minor": 2
}
